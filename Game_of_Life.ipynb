{
  "nbformat": 4,
  "nbformat_minor": 0,
  "metadata": {
    "colab": {
      "name": "session1.ipynb",
      "provenance": [],
      "collapsed_sections": [],
      "authorship_tag": "ABX9TyOrvRUSrSGcBsZ+tFz+8Lou",
      "include_colab_link": true
    },
    "kernelspec": {
      "name": "python3",
      "display_name": "Python 3"
    },
    "language_info": {
      "name": "python"
    }
  },
  "cells": [
    {
      "cell_type": "markdown",
      "metadata": {
        "id": "view-in-github",
        "colab_type": "text"
      },
      "source": [
        "<a href=\"https://colab.research.google.com/github/alitavakoli3/game_of_life/blob/main/Game_of_Life.ipynb\" target=\"_parent\"><img src=\"https://colab.research.google.com/assets/colab-badge.svg\" alt=\"Open In Colab\"/></a>"
      ]
    },
    {
      "cell_type": "markdown",
      "metadata": {
        "id": "W0RsOWhDAqPY"
      },
      "source": [
        "**Game of Life**\n",
        "\n",
        "\n",
        "---\n",
        "\n",
        "\n"
      ]
    },
    {
      "cell_type": "code",
      "metadata": {
        "id": "I0wwcLOUM65u"
      },
      "source": [
        "import numpy as np\n",
        "import random as rnd\n",
        "import time\n",
        "from matplotlib import pyplot as plt\n",
        "from IPython.display import clear_output\n",
        "height = 20"
      ],
      "execution_count": 1,
      "outputs": []
    },
    {
      "cell_type": "code",
      "metadata": {
        "id": "DTqISL2zgzzC"
      },
      "source": [
        "def next_day(uni):\n",
        "  def adjacents(x, y):\n",
        "    ans = 0\n",
        "    for i in range(x - 1, x + 2):\n",
        "      for j in range(y - 1, y + 2):\n",
        "        if (i == x and j == y):\n",
        "          continue\n",
        "        if (uni[i % height][j % height] == 1):\n",
        "          ans += 1\n",
        "          # if(x == 1 and y == 1):\n",
        "          #   print(i, j, uni[i][j])\n",
        "    return ans\n",
        "  # print(adjacents(1, 1))\n",
        "  uni2 = np.zeros((height, height))\n",
        "  for i in range(0, height):\n",
        "    for j in range(0, height):\n",
        "      if uni[i][j] == 1 and (adjacents(i, j) == 2 or adjacents(i, j) == 3):\n",
        "        uni2[i][j] = 1\n",
        "      elif uni[i][j] == 0 and adjacents(i, j) == 3:\n",
        "        uni2[i][j] = 1\n",
        "  return uni2\n"
      ],
      "execution_count": 2,
      "outputs": []
    },
    {
      "cell_type": "code",
      "metadata": {
        "colab": {
          "base_uri": "https://localhost:8080/",
          "height": 265
        },
        "id": "_rEVctllg0xp",
        "outputId": "670da785-d250-4963-c662-2468b535199a"
      },
      "source": [
        "universe = np.zeros((height, height))\n",
        "\n",
        "for i in range(0, 100):\n",
        "  universe[rnd.randint(0, height - 1)][rnd.randint(0, height - 1)] = 1\n",
        "\n",
        "\n",
        "for i in range(1000): #You can change 1000 to every natural number\n",
        "  # plt.figure()\n",
        "  try:\n",
        "    plt.imshow(universe)\n",
        "    plt.show()\n",
        "    clear_output(wait=True)\n",
        "    universe = next_day(universe)\n",
        "  except:\n",
        "    break\n",
        "\n",
        "# print(\"finished\")"
      ],
      "execution_count": 4,
      "outputs": [
        {
          "output_type": "display_data",
          "data": {
            "image/png": "[encoded data removed]",
            "text/plain": [
              "<Figure size 432x288 with 1 Axes>"
            ]
          },
          "metadata": {
            "tags": [],
            "needs_background": "light"
          }
        }
      ]
    }
  ]
}